{
 "cells": [
  {
   "cell_type": "markdown",
   "id": "03029a1e",
   "metadata": {},
   "source": [
    "TITTLE\n",
    "\n",
    "\n",
    "\n",
    "\n",
    "\n",
    "\n"
   ]
  },
  {
   "cell_type": "markdown",
   "id": "b16ec295",
   "metadata": {},
   "source": [
    "In data science, you can work with various programming languages. Here are some commonly used ones:\n",
    "1. Python\n",
    "2. R\n",
    "3. SQL\n",
    "4. Java\n",
    "5. Julia\n",
    "\n",
    "\n",
    "\n"
   ]
  },
  {
   "cell_type": "markdown",
   "id": "faa9bd9b",
   "metadata": {},
   "source": [
    "In data science, you often use various libraries to work with data. Here are some commonly used data science libraries:\n",
    "1. Pandas\n",
    "2. NumPy\n",
    "3. Matplotlib\n",
    "4. Seaborn\n",
    "5. Scikit-Learn\n"
   ]
  },
  {
   "cell_type": "markdown",
   "id": "2d7cf128",
   "metadata": {},
   "source": [
    "\n",
    "\n",
    "| Tool             | Description                                 |\n",
    "|------------------|---------------------------------------------|\n",
    "| Python           | A versatile programming language for data analysis and machine learning.    |\n",
    "| R                | A statistical programming language and environment for data analysis.       |\n",
    "| SQL              | A language for managing and querying relational databases.                  |\n",
    "| Pandas           | A Python library for data manipulation and analysis.                        |\n",
    "| NumPy            | A Python library for numerical computations and multi-dimensional arrays.  |\n",
    "| Matplotlib       | A Python library for creating data visualizations.                           |\n",
    "| Scikit-Learn     | A machine learning library for Python.                                     |\n",
    "| TensorFlow       | An open-source machine learning framework developed by Google.              |\n",
    "| PyTorch          | An open-source machine learning framework developed by Facebook.            |\n",
    "| Jupyter Notebook | An interactive environment for data analysis and sharing of documents.      |\n",
    "\n",
    "\n"
   ]
  },
  {
   "cell_type": "markdown",
   "id": "7ade241a",
   "metadata": {},
   "source": [
    "Arithmetic expressions are fundamental in mathematics and programming. Here are some examples:\n",
    "\n",
    "\n",
    "This is an introductory sentence for my section.\n",
    "\n",
    "\n",
    "- Addition: $3 + 4$\n",
    "- Subtraction: $10 - 5$\n",
    "- Multiplication: $6 * 8$\n",
    "- Division: $20 / 4$\n",
    "- Exponentiation: $2^3$\n",
    "- Square root: $√(9)$\n",
    "\n",
    "\n"
   ]
  },
  {
   "cell_type": "code",
   "execution_count": 1,
   "id": "61a90817",
   "metadata": {},
   "outputs": [
    {
     "data": {
      "text/plain": [
       "(40, 13)"
      ]
     },
     "execution_count": 1,
     "metadata": {},
     "output_type": "execute_result"
    }
   ],
   "source": [
    "# Multiply two numbers\n",
    "result1 = 5 * 8\n",
    "\n",
    "# Add two numbers\n",
    "result2 = 10 + 3\n",
    "\n",
    "result1, result2\n",
    "\n",
    "\n"
   ]
  },
  {
   "cell_type": "code",
   "execution_count": 2,
   "id": "376617c3",
   "metadata": {},
   "outputs": [
    {
     "name": "stdout",
     "output_type": "stream",
     "text": [
      "2.0\n"
     ]
    }
   ],
   "source": [
    "def minutes_to_hours(minutes):\n",
    "    return minutes / 60\n",
    "minutes = 120\n",
    "\n",
    "hours = minutes_to_hours(minutes)\n",
    "print(hours)  \n",
    "\n",
    "\n"
   ]
  },
  {
   "cell_type": "markdown",
   "id": "119cedd7",
   "metadata": {},
   "source": [
    "In a data science project, you may perform various tasks, including:\n",
    "- Data collection\n",
    "- Data cleaning\n",
    "- Data analysis\n",
    "- Model building\n",
    "- Visualization\n",
    "\n",
    "\n"
   ]
  },
  {
   "cell_type": "markdown",
   "id": "725885f2",
   "metadata": {},
   "source": [
    "**Author:** Rehan Ashraf Shareif Mohammad"
   ]
  },
  {
   "cell_type": "code",
   "execution_count": null,
   "id": "f73b095d",
   "metadata": {},
   "outputs": [],
   "source": []
  }
 ],
 "metadata": {
  "kernelspec": {
   "display_name": "Python 3 (ipykernel)",
   "language": "python",
   "name": "python3"
  },
  "language_info": {
   "codemirror_mode": {
    "name": "ipython",
    "version": 3
   },
   "file_extension": ".py",
   "mimetype": "text/x-python",
   "name": "python",
   "nbconvert_exporter": "python",
   "pygments_lexer": "ipython3",
   "version": "3.9.12"
  }
 },
 "nbformat": 4,
 "nbformat_minor": 5
}
